{
 "cells": [
  {
   "cell_type": "markdown",
   "id": "062f39db",
   "metadata": {},
   "source": [
    "# Elasticsearch Python Client"
   ]
  },
  {
   "cell_type": "markdown",
   "id": "d24fa49a",
   "metadata": {},
   "source": [
    "Trying out the Elasticsearch Python Client.\n",
    "Version 'elasticsearch<7.14.0' is necessary for the client to work or there will be an UnsupportedProductError."
   ]
  },
  {
   "cell_type": "code",
   "execution_count": 2,
   "id": "daeeae1c",
   "metadata": {},
   "outputs": [],
   "source": [
    "from datetime import datetime\n",
    "from elasticsearch import Elasticsearch\n",
    "from pandas import DataFrame, Series\n",
    "import pandas as pd\n",
    "import matplotlib.pyplot as plt"
   ]
  },
  {
   "cell_type": "code",
   "execution_count": 67,
   "id": "da4568ff",
   "metadata": {},
   "outputs": [
    {
     "data": {
      "text/plain": [
       "{'name': 'RKwLd3I',\n",
       " 'cluster_name': 'docker-cluster',\n",
       " 'cluster_uuid': 'FtINlOteTVyZFHz_0ALApw',\n",
       " 'version': {'number': '6.8.6',\n",
       "  'build_flavor': 'oss',\n",
       "  'build_type': 'docker',\n",
       "  'build_hash': '3d9f765',\n",
       "  'build_date': '2019-12-13T17:11:52.013738Z',\n",
       "  'build_snapshot': False,\n",
       "  'lucene_version': '7.7.2',\n",
       "  'minimum_wire_compatibility_version': '5.6.0',\n",
       "  'minimum_index_compatibility_version': '5.0.0'},\n",
       " 'tagline': 'You Know, for Search'}"
      ]
     },
     "execution_count": 67,
     "metadata": {},
     "output_type": "execute_result"
    }
   ],
   "source": [
    "client = Elasticsearch(\n",
    "    \"http://localhost:9200\",\n",
    ")\n",
    "client.info()"
   ]
  },
  {
   "cell_type": "code",
   "execution_count": 155,
   "id": "1c1aff94",
   "metadata": {},
   "outputs": [],
   "source": [
    "# res = client.search(index=\"_all\", doc_type=\"items\", body={\"query\": {\"match_all\": {}}}, size=2)\n",
    "# Example data: areas of code study \n",
    "res = client.search(index=\"git-aoc_chaoss_enriched\", doc_type=\"items\", body={\"query\": {\"match_all\": {}}}, size=10000) #use scroll API if longer dataset, this is just a test"
   ]
  },
  {
   "cell_type": "code",
   "execution_count": 124,
   "id": "c92a9276",
   "metadata": {},
   "outputs": [
    {
     "data": {
      "text/plain": [
       "{'took': 13,\n",
       " 'timed_out': False,\n",
       " '_shards': {'total': 5, 'successful': 5, 'skipped': 0, 'failed': 0},\n",
       " 'hits': {'total': 6448,\n",
       "  'max_score': 1.0,\n",
       "  'hits': [{'_index': 'git-aoc_chaoss_enriched',\n",
       "    '_type': 'items',\n",
       "    '_id': '14d4f896299d9131bddcb0a4cde80b85b645f3ee',\n",
       "    '_score': 1.0,\n",
       "    '_source': {'metadata__timestamp': '2022-04-05T19:49:29.337680+00:00',\n",
       "     'metadata__updated_on': '2017-10-25T17:38:54+00:00',\n",
       "     'metadata__enriched_on': '2022-04-05T19:50:24.441780',\n",
       "     'grimoire_creation_date': '2017-10-25T19:38:54+02:00',\n",
       "     'project': 'grimoire',\n",
       "     'project_1': 'grimoire',\n",
       "     'perceval_uuid': 'd858fa6c4a09e19e0ceeb1f1f7c619bb11bca830',\n",
       "     'author_id': '75fc28ef4643de5323e89fb26e4e67c97b24f507',\n",
       "     'author_org_name': 'Unknown',\n",
       "     'author_name': 'Santiago Dueñas',\n",
       "     'author_uuid': '75fc28ef4643de5323e89fb26e4e67c97b24f507',\n",
       "     'author_domain': 'bitergia.com',\n",
       "     'author_user_name': '',\n",
       "     'author_bot': False,\n",
       "     'author_multi_org_names': ['Unknown'],\n",
       "     'id': 'eb76bf4c72b0575a87646a5655e1fe6d9a86ab1b',\n",
       "     'eventtype': 'COMMIT',\n",
       "     'date': '2017-10-25T19:38:54+02:00',\n",
       "     'owner': 'Santiago Dueñas <sduenas@bitergia.com>',\n",
       "     'committer': 'Santiago Dueñas <sduenas@bitergia.com>',\n",
       "     'committer_date': '2017-10-25T19:38:54+02:00',\n",
       "     'repository': 'https://github.com/chaoss/grimoirelab-perceval',\n",
       "     'message': \"Merge branch 'fix-askbot' of 'https://github.com/valeriocos/perceval.git'\\n\\nMerge\",\n",
       "     'hash': 'eb76bf4c72b0575a87646a5655e1fe6d9a86ab1b',\n",
       "     'git_author_domain': 'bitergia.com',\n",
       "     'files': 0,\n",
       "     'fileaction': '-',\n",
       "     'filepath': 'perceval/backends/core/askbot.py',\n",
       "     'addedlines': 15,\n",
       "     'removedlines': 7,\n",
       "     'filetype': 'Code',\n",
       "     'file_name': 'askbot.py',\n",
       "     'file_ext': 'py',\n",
       "     'file_dir_name': '/perceval/backends/core/',\n",
       "     'file_path_list': ['perceval', 'backends', 'core', 'askbot.py'],\n",
       "     'origin': 'https://github.com/chaoss/grimoirelab-perceval',\n",
       "     'uuid': '14d4f896299d9131bddcb0a4cde80b85b645f3ee',\n",
       "     'author_gender': 'Unknown',\n",
       "     'author_gender_acc': 0}},\n",
       "   {'_index': 'git-aoc_chaoss_enriched',\n",
       "    '_type': 'items',\n",
       "    '_id': 'e39de580004f1ddee5bdcdb5ec4a41701d688226',\n",
       "    '_score': 1.0,\n",
       "    '_source': {'metadata__timestamp': '2022-04-05T19:49:29.338671+00:00',\n",
       "     'metadata__updated_on': '2017-11-03T11:49:14+00:00',\n",
       "     'metadata__enriched_on': '2022-04-05T19:50:24.443583',\n",
       "     'grimoire_creation_date': '2017-11-03T12:49:14+01:00',\n",
       "     'project': 'grimoire',\n",
       "     'project_1': 'grimoire',\n",
       "     'perceval_uuid': 'dfbbb1e1e03d6d534b5b158ac2faa5d7bfee52fa',\n",
       "     'author_id': '75fc28ef4643de5323e89fb26e4e67c97b24f507',\n",
       "     'author_org_name': 'Unknown',\n",
       "     'author_name': 'Santiago Dueñas',\n",
       "     'author_uuid': '75fc28ef4643de5323e89fb26e4e67c97b24f507',\n",
       "     'author_domain': 'bitergia.com',\n",
       "     'author_user_name': '',\n",
       "     'author_bot': False,\n",
       "     'author_multi_org_names': ['Unknown'],\n",
       "     'id': 'bf85a8694e3fc2fe4614155e4679dc8a8f852a56',\n",
       "     'eventtype': 'COMMIT',\n",
       "     'date': '2017-11-03T12:49:14+01:00',\n",
       "     'owner': 'Santiago Dueñas <sduenas@bitergia.com>',\n",
       "     'committer': 'Santiago Dueñas <sduenas@bitergia.com>',\n",
       "     'committer_date': '2017-11-03T12:49:14+01:00',\n",
       "     'repository': 'https://github.com/chaoss/grimoirelab-perceval',\n",
       "     'message': \"Merge branch 'fix_api_enterprise' of 'https://github.com/dpose/perceval.git'\\n\\nMe\",\n",
       "     'hash': 'bf85a8694e3fc2fe4614155e4679dc8a8f852a56',\n",
       "     'git_author_domain': 'bitergia.com',\n",
       "     'files': 0,\n",
       "     'fileaction': '-',\n",
       "     'filepath': 'perceval/backends/core/github.py',\n",
       "     'addedlines': 1,\n",
       "     'removedlines': 3,\n",
       "     'filetype': 'Code',\n",
       "     'file_name': 'github.py',\n",
       "     'file_ext': 'py',\n",
       "     'file_dir_name': '/perceval/backends/core/',\n",
       "     'file_path_list': ['perceval', 'backends', 'core', 'github.py'],\n",
       "     'origin': 'https://github.com/chaoss/grimoirelab-perceval',\n",
       "     'uuid': 'e39de580004f1ddee5bdcdb5ec4a41701d688226',\n",
       "     'author_gender': 'Unknown',\n",
       "     'author_gender_acc': 0}}]}}"
      ]
     },
     "execution_count": 124,
     "metadata": {},
     "output_type": "execute_result"
    }
   ],
   "source": [
    "res"
   ]
  },
  {
   "cell_type": "code",
   "execution_count": 156,
   "id": "22eea865",
   "metadata": {},
   "outputs": [],
   "source": [
    "repos = set()\n",
    "for hit in res['hits']['hits']:\n",
    "    try:\n",
    "        repos.add(hit['_source']['repository'])\n",
    "    except Exception as e:\n",
    "        pass"
   ]
  },
  {
   "cell_type": "code",
   "execution_count": 157,
   "id": "87b2557e",
   "metadata": {},
   "outputs": [
    {
     "data": {
      "text/plain": [
       "{'https://github.com/chaoss/grimoirelab-perceval'}"
      ]
     },
     "execution_count": 157,
     "metadata": {},
     "output_type": "execute_result"
    }
   ],
   "source": [
    "repos"
   ]
  },
  {
   "cell_type": "code",
   "execution_count": 158,
   "id": "e5de2e15",
   "metadata": {},
   "outputs": [],
   "source": [
    "columns = list(res['hits']['hits'][0].keys())\n",
    "# columns.extend(res['hits']['hits'][0]['_source'])\n",
    "# columns"
   ]
  },
  {
   "cell_type": "code",
   "execution_count": 159,
   "id": "3e979ab3",
   "metadata": {},
   "outputs": [],
   "source": [
    "df = pd.DataFrame(columns=columns)"
   ]
  },
  {
   "cell_type": "code",
   "execution_count": 160,
   "id": "d627d11d",
   "metadata": {},
   "outputs": [
    {
     "data": {
      "text/html": [
       "<div>\n",
       "<style scoped>\n",
       "    .dataframe tbody tr th:only-of-type {\n",
       "        vertical-align: middle;\n",
       "    }\n",
       "\n",
       "    .dataframe tbody tr th {\n",
       "        vertical-align: top;\n",
       "    }\n",
       "\n",
       "    .dataframe thead th {\n",
       "        text-align: right;\n",
       "    }\n",
       "</style>\n",
       "<table border=\"1\" class=\"dataframe\">\n",
       "  <thead>\n",
       "    <tr style=\"text-align: right;\">\n",
       "      <th></th>\n",
       "      <th>_index</th>\n",
       "      <th>_type</th>\n",
       "      <th>_id</th>\n",
       "      <th>_score</th>\n",
       "      <th>_source</th>\n",
       "    </tr>\n",
       "  </thead>\n",
       "  <tbody>\n",
       "  </tbody>\n",
       "</table>\n",
       "</div>"
      ],
      "text/plain": [
       "Empty DataFrame\n",
       "Columns: [_index, _type, _id, _score, _source]\n",
       "Index: []"
      ]
     },
     "execution_count": 160,
     "metadata": {},
     "output_type": "execute_result"
    }
   ],
   "source": [
    "df"
   ]
  },
  {
   "cell_type": "code",
   "execution_count": 161,
   "id": "87f0ecb9",
   "metadata": {},
   "outputs": [],
   "source": [
    "for i, row in enumerate(res['hits']['hits']):\n",
    "    df.loc[i] = list(row.values())"
   ]
  },
  {
   "cell_type": "code",
   "execution_count": 162,
   "id": "0d8da4fd",
   "metadata": {},
   "outputs": [
    {
     "data": {
      "text/html": [
       "<div>\n",
       "<style scoped>\n",
       "    .dataframe tbody tr th:only-of-type {\n",
       "        vertical-align: middle;\n",
       "    }\n",
       "\n",
       "    .dataframe tbody tr th {\n",
       "        vertical-align: top;\n",
       "    }\n",
       "\n",
       "    .dataframe thead th {\n",
       "        text-align: right;\n",
       "    }\n",
       "</style>\n",
       "<table border=\"1\" class=\"dataframe\">\n",
       "  <thead>\n",
       "    <tr style=\"text-align: right;\">\n",
       "      <th></th>\n",
       "      <th>_index</th>\n",
       "      <th>_type</th>\n",
       "      <th>_id</th>\n",
       "      <th>_score</th>\n",
       "      <th>_source</th>\n",
       "    </tr>\n",
       "  </thead>\n",
       "  <tbody>\n",
       "    <tr>\n",
       "      <th>0</th>\n",
       "      <td>git-aoc_chaoss_enriched</td>\n",
       "      <td>items</td>\n",
       "      <td>14d4f896299d9131bddcb0a4cde80b85b645f3ee</td>\n",
       "      <td>1.0</td>\n",
       "      <td>{'metadata__timestamp': '2022-04-05T19:49:29.3...</td>\n",
       "    </tr>\n",
       "    <tr>\n",
       "      <th>1</th>\n",
       "      <td>git-aoc_chaoss_enriched</td>\n",
       "      <td>items</td>\n",
       "      <td>e39de580004f1ddee5bdcdb5ec4a41701d688226</td>\n",
       "      <td>1.0</td>\n",
       "      <td>{'metadata__timestamp': '2022-04-05T19:49:29.3...</td>\n",
       "    </tr>\n",
       "    <tr>\n",
       "      <th>2</th>\n",
       "      <td>git-aoc_chaoss_enriched</td>\n",
       "      <td>items</td>\n",
       "      <td>a74f41aeef88715f50f1991dd7e4276ab67d96a1</td>\n",
       "      <td>1.0</td>\n",
       "      <td>{'metadata__timestamp': '2022-04-05T19:49:29.3...</td>\n",
       "    </tr>\n",
       "    <tr>\n",
       "      <th>3</th>\n",
       "      <td>git-aoc_chaoss_enriched</td>\n",
       "      <td>items</td>\n",
       "      <td>65029432610d32f9501d2deaa57407cb62609315</td>\n",
       "      <td>1.0</td>\n",
       "      <td>{'metadata__timestamp': '2022-04-05T19:49:29.3...</td>\n",
       "    </tr>\n",
       "    <tr>\n",
       "      <th>4</th>\n",
       "      <td>git-aoc_chaoss_enriched</td>\n",
       "      <td>items</td>\n",
       "      <td>ec82be909c47bb579baee37b9b97f1a1b74094c5</td>\n",
       "      <td>1.0</td>\n",
       "      <td>{'metadata__timestamp': '2022-04-05T19:49:29.3...</td>\n",
       "    </tr>\n",
       "    <tr>\n",
       "      <th>...</th>\n",
       "      <td>...</td>\n",
       "      <td>...</td>\n",
       "      <td>...</td>\n",
       "      <td>...</td>\n",
       "      <td>...</td>\n",
       "    </tr>\n",
       "    <tr>\n",
       "      <th>6443</th>\n",
       "      <td>git-aoc_chaoss_enriched</td>\n",
       "      <td>items</td>\n",
       "      <td>070d990db571b8edc634e08badff1ebfce317ef9</td>\n",
       "      <td>1.0</td>\n",
       "      <td>{'metadata__timestamp': '2022-04-05T19:49:31.4...</td>\n",
       "    </tr>\n",
       "    <tr>\n",
       "      <th>6444</th>\n",
       "      <td>git-aoc_chaoss_enriched</td>\n",
       "      <td>items</td>\n",
       "      <td>37eedde2154de8a3c96739812915de99dd9a0b58</td>\n",
       "      <td>1.0</td>\n",
       "      <td>{'metadata__timestamp': '2022-04-05T19:49:31.4...</td>\n",
       "    </tr>\n",
       "    <tr>\n",
       "      <th>6445</th>\n",
       "      <td>git-aoc_chaoss_enriched</td>\n",
       "      <td>items</td>\n",
       "      <td>6e1d0513df14451e806985fd80ac13a824d57581</td>\n",
       "      <td>1.0</td>\n",
       "      <td>{'metadata__timestamp': '2022-04-05T19:49:31.4...</td>\n",
       "    </tr>\n",
       "    <tr>\n",
       "      <th>6446</th>\n",
       "      <td>git-aoc_chaoss_enriched</td>\n",
       "      <td>items</td>\n",
       "      <td>6689830a6794e1d99186807fcff3b2aa04a60b97</td>\n",
       "      <td>1.0</td>\n",
       "      <td>{'metadata__timestamp': '2022-04-05T19:49:31.4...</td>\n",
       "    </tr>\n",
       "    <tr>\n",
       "      <th>6447</th>\n",
       "      <td>git-aoc_chaoss_enriched</td>\n",
       "      <td>items</td>\n",
       "      <td>3abbcba1c335b51063b468d69f288ce6ea54e2a0</td>\n",
       "      <td>1.0</td>\n",
       "      <td>{'metadata__timestamp': '2022-04-05T19:49:31.4...</td>\n",
       "    </tr>\n",
       "  </tbody>\n",
       "</table>\n",
       "<p>6448 rows × 5 columns</p>\n",
       "</div>"
      ],
      "text/plain": [
       "                       _index  _type  \\\n",
       "0     git-aoc_chaoss_enriched  items   \n",
       "1     git-aoc_chaoss_enriched  items   \n",
       "2     git-aoc_chaoss_enriched  items   \n",
       "3     git-aoc_chaoss_enriched  items   \n",
       "4     git-aoc_chaoss_enriched  items   \n",
       "...                       ...    ...   \n",
       "6443  git-aoc_chaoss_enriched  items   \n",
       "6444  git-aoc_chaoss_enriched  items   \n",
       "6445  git-aoc_chaoss_enriched  items   \n",
       "6446  git-aoc_chaoss_enriched  items   \n",
       "6447  git-aoc_chaoss_enriched  items   \n",
       "\n",
       "                                           _id  _score  \\\n",
       "0     14d4f896299d9131bddcb0a4cde80b85b645f3ee     1.0   \n",
       "1     e39de580004f1ddee5bdcdb5ec4a41701d688226     1.0   \n",
       "2     a74f41aeef88715f50f1991dd7e4276ab67d96a1     1.0   \n",
       "3     65029432610d32f9501d2deaa57407cb62609315     1.0   \n",
       "4     ec82be909c47bb579baee37b9b97f1a1b74094c5     1.0   \n",
       "...                                        ...     ...   \n",
       "6443  070d990db571b8edc634e08badff1ebfce317ef9     1.0   \n",
       "6444  37eedde2154de8a3c96739812915de99dd9a0b58     1.0   \n",
       "6445  6e1d0513df14451e806985fd80ac13a824d57581     1.0   \n",
       "6446  6689830a6794e1d99186807fcff3b2aa04a60b97     1.0   \n",
       "6447  3abbcba1c335b51063b468d69f288ce6ea54e2a0     1.0   \n",
       "\n",
       "                                                _source  \n",
       "0     {'metadata__timestamp': '2022-04-05T19:49:29.3...  \n",
       "1     {'metadata__timestamp': '2022-04-05T19:49:29.3...  \n",
       "2     {'metadata__timestamp': '2022-04-05T19:49:29.3...  \n",
       "3     {'metadata__timestamp': '2022-04-05T19:49:29.3...  \n",
       "4     {'metadata__timestamp': '2022-04-05T19:49:29.3...  \n",
       "...                                                 ...  \n",
       "6443  {'metadata__timestamp': '2022-04-05T19:49:31.4...  \n",
       "6444  {'metadata__timestamp': '2022-04-05T19:49:31.4...  \n",
       "6445  {'metadata__timestamp': '2022-04-05T19:49:31.4...  \n",
       "6446  {'metadata__timestamp': '2022-04-05T19:49:31.4...  \n",
       "6447  {'metadata__timestamp': '2022-04-05T19:49:31.4...  \n",
       "\n",
       "[6448 rows x 5 columns]"
      ]
     },
     "execution_count": 162,
     "metadata": {},
     "output_type": "execute_result"
    }
   ],
   "source": [
    "df"
   ]
  },
  {
   "cell_type": "code",
   "execution_count": null,
   "id": "dbfebe43",
   "metadata": {},
   "outputs": [],
   "source": []
  },
  {
   "cell_type": "code",
   "execution_count": null,
   "id": "1489152d",
   "metadata": {},
   "outputs": [],
   "source": []
  }
 ],
 "metadata": {
  "kernelspec": {
   "display_name": "Python 3",
   "language": "python",
   "name": "python3"
  },
  "language_info": {
   "codemirror_mode": {
    "name": "ipython",
    "version": 3
   },
   "file_extension": ".py",
   "mimetype": "text/x-python",
   "name": "python",
   "nbconvert_exporter": "python",
   "pygments_lexer": "ipython3",
   "version": "3.8.2"
  }
 },
 "nbformat": 4,
 "nbformat_minor": 5
}
