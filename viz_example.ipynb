{
 "cells": [
  {
   "cell_type": "markdown",
   "metadata": {},
   "source": [
    "# New Contributor & Conversion Rate Analysis Test"
   ]
  },
  {
   "cell_type": "markdown",
   "metadata": {},
   "source": []
  },
  {
   "cell_type": "code",
   "execution_count": 1,
   "metadata": {},
   "outputs": [],
   "source": [
    "import psycopg2\n",
    "import pandas as pd \n",
    "import sqlalchemy as salc\n",
    "import numpy as np\n",
    "import seaborn as sns\n",
    "import matplotlib.pyplot as plt\n",
    "import warnings\n",
    "import datetime\n",
    "import json\n",
    "\n",
    "from datetime import datetime\n",
    "\n",
    "warnings.filterwarnings('ignore')\n",
    "\n",
    "with open(\"config.json\") as config_file:\n",
    "    config = json.load(config_file)\n",
    "\n",
    "database_connection_string = 'postgres+psycopg2://{}:{}@{}:{}/{}'.format(config['user'], config['password'], config['host'], config['port'], config['database'])\n",
    "\n",
    "dbschema='augur_data'\n",
    "engine = salc.create_engine(\n",
    "    database_connection_string,\n",
    "    connect_args={'options': '-csearch_path={}'.format(dbschema)})"
   ]
  },
  {
   "cell_type": "code",
   "execution_count": 2,
   "metadata": {},
   "outputs": [],
   "source": [
    "pd.set_option('display.max_rows', 100)"
   ]
  },
  {
   "cell_type": "markdown",
   "metadata": {},
   "source": [
    "## Repo Filter"
   ]
  },
  {
   "cell_type": "code",
   "execution_count": 3,
   "metadata": {},
   "outputs": [],
   "source": [
    "#declare all repo ids you would like to produce charts for\n",
    "repo_set = {1} #CHAOSS  25445, 25450\n",
    "\n",
    "# #can be set as 'competitors' or 'repo'\n",
    "# #'competitors' will group graphs by type, so it is easy to compare across repos\n",
    "# # 'repo' will group graphs by repo so it is easy to look at all the contributor data for each repo\n",
    "# display_grouping = 'repo'\n",
    "\n",
    "# #if display_grouping is set to 'competitors', enter the repo ids you do no want to alias, if 'display_grouping' is set to repo the list will not effect anything\n",
    "# not_aliased_repos = [25440, 25448]\n",
    "\n",
    "#group_by can be set as 'month' or 'year'\n",
    "group_by = 'month'\n",
    "\n",
    "#requirements for a contributor to be considered a repeat contributor\n",
    "time = 365\n",
    "num_contributions_required = 3\n",
    "\n",
    "#specify dates for filtering\n",
    "#if the end_date is in the future, the end_date will default to the current_date\n",
    "begin_date = '1970-10-01'\n",
    "end_date = '2019-10-01'\n",
    "\n",
    "\"\"\"\n",
    "new: assess_date - the date you will use to assess whether the person has become a repeat contributor.\n",
    "used similar to time (above) however it is a date and parametrizes the date at which you assess the conversion rate.\n",
    "\n",
    "If not specified, or in future, the date will default to today's date. \n",
    "\"\"\"\n",
    "assess_date = str(datetime.now().date())\n",
    "\n",
    "save_files = False\n",
    "\n",
    "if not begin_date:\n",
    "    begin_date = '1970-1-1 00:00:01'\n",
    "if not end_date:\n",
    "    end_date = datetime.now().strftime('%Y-%m-%d %H:%M:%S')\n",
    "if not assess_date:\n",
    "    assess_date = datetime.now().strftime('%Y-%m-%d %H:%M:%S')\n"
   ]
  },
  {
   "cell_type": "code",
   "execution_count": 4,
   "metadata": {},
   "outputs": [],
   "source": [
    "#create tuple that contains all the contributor rankings needed\n",
    "rank_list = []\n",
    "for num in range(1, num_contributions_required + 1):\n",
    "    rank_list.append(num)\n",
    "rank_tuple = tuple(rank_list)"
   ]
  },
  {
   "cell_type": "markdown",
   "metadata": {},
   "source": [
    "## Query New Contributors (in terms of merged pull requests)"
   ]
  },
  {
   "cell_type": "markdown",
   "metadata": {},
   "source": [
    "Loosely based on code in new_contributor Jupyter notebook."
   ]
  },
  {
   "cell_type": "code",
   "execution_count": 5,
   "metadata": {},
   "outputs": [
    {
     "name": "stdout",
     "output_type": "stream",
     "text": [
      "33\n"
     ]
    }
   ],
   "source": [
    "df_new_contributors_mpr = pd.DataFrame()\n",
    "\n",
    "for repo_id in repo_set: \n",
    "\n",
    "#     Query to find if first pull request ever merged is within a particular period (inclusive).\n",
    "#         (aka, if they were \"NEW\" during said period)\n",
    "#     Also, how many PRs they got merged DURING that time period. PRs outside time period will not be included in the count.\n",
    "#     If yes, then the name will appear in this list. If the person was \"NEW\" before or after the period, then they cannot be included.\n",
    "#     A contributor can be considered for newness as long as they get at least 1 PR merged. \n",
    "    new_contributors_query = salc.sql.text(f\"\"\"     \n",
    "        SELECT pr_augur_contributor_id, first_pr_date, count, cntrb_id, cntrb_login\n",
    "        FROM\n",
    "            (SELECT pr.pr_augur_contributor_id, MIN(pr.pr_merged_at) AS first_pr_date, COUNT(pr.pr_augur_contributor_id)\n",
    "            FROM pull_requests as pr\n",
    "            WHERE pr.pr_merged_at is NOT NULL\n",
    "                AND pr.pr_merged_at::date BETWEEN '{begin_date}'::date AND '{end_date}'::date\n",
    "            GROUP BY pr.pr_augur_contributor_id\n",
    "            ORDER BY pr.pr_augur_contributor_id) AS first_pr_times\n",
    "        INNER JOIN contributors\n",
    "        ON first_pr_times.pr_augur_contributor_id = contributors.cntrb_id\n",
    "        ORDER BY count DESC\n",
    "    \"\"\")\n",
    "\n",
    "\n",
    "    df_first_repo = pd.read_sql(new_contributors_query, con=engine)\n",
    "    if not df_new_contributors_mpr.empty: \n",
    "        df_new_contributors_mpr = pd.concat([df_new_contributors_mpr, df_first_repo]) \n",
    "    else: \n",
    "        # first repo\n",
    "        df_new_contributors_mpr = df_first_repo\n",
    "\n",
    "\n",
    "print(df_new_contributors_mpr.shape[0])\n"
   ]
  },
  {
   "cell_type": "code",
   "execution_count": 6,
   "metadata": {},
   "outputs": [],
   "source": [
    "# display(df_new_contributors_mpr)"
   ]
  },
  {
   "cell_type": "markdown",
   "metadata": {},
   "source": [
    "## Query New Contributors (in terms of merged pull requests) becoming repeat/sustained"
   ]
  },
  {
   "cell_type": "markdown",
   "metadata": {},
   "source": [
    "As mentioned before, this query will answer how many people who were new in [begin_date, end_date] have since become repeat/sustained during the period [begin_date, assess_date]?\n",
    "\n",
    "This will yield a percent for a rudimentary conversion rate, as in the only data used for the calculation are the merged pull requests in the specified periods.\n",
    "\n",
    "We can assess this with an inner join, then comparing with the results from the above df.\n",
    "\n",
    "This does not YET filter out bots. Nor does it differentiate between sustained and repeated."
   ]
  },
  {
   "cell_type": "code",
   "execution_count": 7,
   "metadata": {},
   "outputs": [
    {
     "name": "stdout",
     "output_type": "stream",
     "text": [
      "2022-04-06\n"
     ]
    },
    {
     "data": {
      "text/plain": [
       "14"
      ]
     },
     "execution_count": 7,
     "metadata": {},
     "output_type": "execute_result"
    }
   ],
   "source": [
    "def compute_df_repeated_mpr(repo_set, assess_date):\n",
    "    df_repeated_mpr = pd.DataFrame()\n",
    "    for repo_id in repo_set: \n",
    "        repeated_contributors_from_new = salc.sql.text(f\"\"\"    \n",
    "            SELECT * \n",
    "            FROM\n",
    "                (SELECT pr_augur_contributor_id, first_pr_date, count, cntrb_id, cntrb_login\n",
    "                FROM\n",
    "                    (SELECT pr.pr_augur_contributor_id, MIN(pr.pr_merged_at) AS first_pr_date, COUNT(pr.pr_augur_contributor_id)\n",
    "                    FROM pull_requests as pr\n",
    "                    WHERE pr.pr_merged_at is NOT NULL\n",
    "                        AND pr.pr_merged_at::date BETWEEN '{begin_date}'::date AND '{end_date}'::date\n",
    "                    GROUP BY pr.pr_augur_contributor_id\n",
    "                    ORDER BY pr.pr_augur_contributor_id) AS first_pr_times\n",
    "                INNER JOIN contributors\n",
    "                ON first_pr_times.pr_augur_contributor_id = contributors.cntrb_id\n",
    "                ORDER BY count DESC) as new_contributors\n",
    "\n",
    "                INNER JOIN\n",
    "\n",
    "                (SELECT pr_augur_contributor_id, count, cntrb_id, cntrb_login\n",
    "                FROM\n",
    "                    (SELECT pr.pr_augur_contributor_id, COUNT(pr.pr_augur_contributor_id)\n",
    "                    FROM pull_requests as pr\n",
    "                    WHERE pr.pr_merged_at is NOT NULL\n",
    "                        AND pr.pr_merged_at::date BETWEEN '{begin_date}'::date AND '{assess_date}'::date\n",
    "                    GROUP BY pr.pr_augur_contributor_id\n",
    "                    ORDER BY pr.pr_augur_contributor_id) AS num_merged_prs_in_interval\n",
    "                INNER JOIN contributors\n",
    "                ON num_merged_prs_in_interval.pr_augur_contributor_id = contributors.cntrb_id\n",
    "                WHERE count > {num_contributions_required}\n",
    "                ORDER BY count DESC) as all_repeat_contributors\n",
    "\n",
    "                ON new_contributors.pr_augur_contributor_id = all_repeat_contributors.pr_augur_contributor_id\n",
    "        \"\"\")\n",
    "\n",
    "\n",
    "\n",
    "        df_first_repo = pd.read_sql(repeated_contributors_from_new, con=engine)\n",
    "        if not df_repeated_mpr.empty: \n",
    "            df_repeated_mpr = pd.concat([df_repeated_mpr, df_first_repo]) \n",
    "        else: \n",
    "            # first repo\n",
    "            df_repeated_mpr = df_first_repo\n",
    "    return df_repeated_mpr\n",
    "\n",
    "\n",
    "print(assess_date)\n",
    "df_repeated_mpr = compute_df_repeated_mpr(repo_set, assess_date)\n",
    "\n",
    "df_repeated_mpr.shape[0]"
   ]
  },
  {
   "cell_type": "code",
   "execution_count": 8,
   "metadata": {},
   "outputs": [],
   "source": [
    "# df_repeated_mpr"
   ]
  },
  {
   "cell_type": "markdown",
   "metadata": {},
   "source": [
    "## Final Percent: repeat Contributors / new Contributors (in terms of merged pull requests)"
   ]
  },
  {
   "cell_type": "code",
   "execution_count": 9,
   "metadata": {},
   "outputs": [
    {
     "name": "stdout",
     "output_type": "stream",
     "text": [
      "Conversion Rate (data from merged pull requests only) assessed at 2022-04-06 of new contributors who had their first MPR during [1970-10-01, 2019-10-01] = 42.42424242424242%\n"
     ]
    }
   ],
   "source": [
    "def conversion_rate_mpr(df_new_contributors_mpr, df_repeated_mpr):\n",
    "    num_new_contributors = df_new_contributors_mpr.shape[0]\n",
    "    num_repeated_contributors = df_repeated_mpr.shape[0]\n",
    "    return (num_repeated_contributors/num_new_contributors)*100\n",
    "\n",
    "print(f\"Conversion Rate (data from merged pull requests only) assessed at {assess_date} of new contributors \\\n",
    "who had their first MPR during [{begin_date}, {end_date}] = {conversion_rate_mpr(df_new_contributors_mpr, df_repeated_mpr)}%\")"
   ]
  },
  {
   "cell_type": "markdown",
   "metadata": {},
   "source": [
    "## Visualization of conversion rate (in terms of merged pull requests only) over time [granularity = month] starting from end_date to now."
   ]
  },
  {
   "cell_type": "markdown",
   "metadata": {},
   "source": [
    "\"months\"are calculated by time elapsed (30.436875 days avg/2629746 seconds), not necessarily in terms of when months start and end on a calendar, to make intervals between measurements consistent. Timezone is assumed UTC for now."
   ]
  },
  {
   "cell_type": "code",
   "execution_count": 10,
   "metadata": {},
   "outputs": [
    {
     "name": "stdout",
     "output_type": "stream",
     "text": [
      "conversion_rates = [33.33333333333333, 33.33333333333333, 33.33333333333333, 33.33333333333333, 33.33333333333333, 33.33333333333333, 36.36363636363637, 36.36363636363637, 36.36363636363637, 36.36363636363637, 36.36363636363637, 39.39393939393939, 39.39393939393939, 39.39393939393939, 39.39393939393939, 39.39393939393939, 39.39393939393939, 42.42424242424242, 42.42424242424242, 42.42424242424242, 42.42424242424242, 42.42424242424242, 42.42424242424242, 42.42424242424242, 42.42424242424242, 42.42424242424242, 42.42424242424242, 42.42424242424242, 42.42424242424242, 42.42424242424242, 42.42424242424242]\n"
     ]
    }
   ],
   "source": [
    "# First, calculate how many full months since the end_date (inclusive)\n",
    "end_date_unix_ts = int(datetime.strptime(end_date, '%Y-%m-%d').timestamp())\n",
    "assess_date_unix_ts = int(datetime.strptime(assess_date, '%Y-%m-%d').timestamp())\n",
    "one_month_in_seconds = 2629746\n",
    "datapoint_dates = list(range(end_date_unix_ts, assess_date_unix_ts+1, 2629746))\n",
    "num_repeated_contributors_at_datapoints = []\n",
    "\n",
    "for timestamp in datapoint_dates:\n",
    "    num_repeated_contributors_at_datapoints.append(compute_df_repeated_mpr(repo_set, datetime.fromtimestamp(timestamp).date()).shape[0])\n",
    "\n",
    "conversion_rates = [(i/df_new_contributors_mpr.shape[0])*100 for i in num_repeated_contributors_at_datapoints]\n",
    "print(f\"conversion_rates = {conversion_rates}\")"
   ]
  },
  {
   "cell_type": "code",
   "execution_count": 21,
   "metadata": {},
   "outputs": [
    {
     "data": {
      "image/png": "[encoded data removed]",
      "text/plain": [
       "<Figure size 640x480 with 1 Axes>"
      ]
     },
     "metadata": {
      "needs_background": "light"
     },
     "output_type": "display_data"
    }
   ],
   "source": [
    "# plt.bar(list(df.index), df['count'])\n",
    "plt.figure(figsize=(8, 6), dpi=80)\n",
    "plt.xlabel(f\"# of Months since {end_date}\")\n",
    "plt.ylabel(\"Conversion Rate - merged pull requests only (%)\")\n",
    "plt.title(f\"Conversion Rate vs Time with a cutoff of {num_contributions_required} contributions\")\n",
    "plt.plot(range(len(datapoint_dates)), conversion_rates)\n",
    "plt.xticks(np.arange(0, len(datapoint_dates), 2.0))\n",
    "plt.show()"
   ]
  },
  {
   "cell_type": "markdown",
   "metadata": {},
   "source": [
    "# New Contributor & Conversion Rate Analysis Test - With OpenSearch\n"
   ]
  },
  {
   "cell_type": "markdown",
   "metadata": {},
   "source": [
    "source $HOME/.virtualenvs/comm_reports_env/bin/activate"
   ]
  },
  {
   "cell_type": "markdown",
   "metadata": {},
   "source": [
    "See OpenSearch Documentation for tutorial which this notebook is based on."
   ]
  },
  {
   "cell_type": "markdown",
   "metadata": {},
   "source": [
    "Objective:\n",
    "- Test Opensearch connector for loading data from pandas dataframe"
   ]
  },
  {
   "cell_type": "code",
   "execution_count": 22,
   "metadata": {},
   "outputs": [],
   "source": [
    "from opensearchpy import OpenSearch"
   ]
  },
  {
   "cell_type": "code",
   "execution_count": 23,
   "metadata": {},
   "outputs": [],
   "source": [
    "host = 'localhost'\n",
    "port = 9200\n",
    "auth = ('admin', 'admin') # For testing only. "
   ]
  },
  {
   "cell_type": "code",
   "execution_count": 48,
   "metadata": {},
   "outputs": [],
   "source": [
    "# Create the client with SSL/TLS enabled, but hostname verification disabled.\n",
    "client = OpenSearch(\n",
    "    hosts = [{'host': host, 'port': port}],\n",
    "    http_compress = True, # enables gzip compression for request bodies\n",
    "    http_auth = auth,\n",
    "    use_ssl = True,\n",
    "    verify_certs = False,\n",
    "#     ssl_assert_hostname = False,\n",
    "#     ssl_show_warn = False,\n",
    ")"
   ]
  },
  {
   "cell_type": "code",
   "execution_count": 49,
   "metadata": {},
   "outputs": [
    {
     "data": {
      "text/plain": [
       "<OpenSearch([{'host': 'localhost', 'port': 9200}])>"
      ]
     },
     "execution_count": 49,
     "metadata": {},
     "output_type": "execute_result"
    }
   ],
   "source": [
    "client"
   ]
  },
  {
   "cell_type": "code",
   "execution_count": 50,
   "metadata": {},
   "outputs": [],
   "source": [
    "# Create an index with non-default settings.\n",
    "index_name = 'cr-test-index'\n",
    "index_body = {\n",
    "  'settings': {\n",
    "    'index': {\n",
    "      'number_of_shards': 4\n",
    "    }\n",
    "  }\n",
    "}"
   ]
  },
  {
   "cell_type": "code",
   "execution_count": 51,
   "metadata": {},
   "outputs": [
    {
     "name": "stdout",
     "output_type": "stream",
     "text": [
      "\n",
      "Creating index:\n",
      "{'acknowledged': True, 'shards_acknowledged': True, 'index': 'cr-test-index'}\n"
     ]
    }
   ],
   "source": [
    "response = client.indices.create(index_name, body=index_body)\n",
    "print('\\nCreating index:')\n",
    "print(response)"
   ]
  },
  {
   "cell_type": "code",
   "execution_count": 52,
   "metadata": {},
   "outputs": [
    {
     "data": {
      "text/plain": [
       "[33.33333333333333,\n",
       " 33.33333333333333,\n",
       " 33.33333333333333,\n",
       " 33.33333333333333,\n",
       " 33.33333333333333,\n",
       " 33.33333333333333,\n",
       " 36.36363636363637,\n",
       " 36.36363636363637,\n",
       " 36.36363636363637,\n",
       " 36.36363636363637,\n",
       " 36.36363636363637,\n",
       " 39.39393939393939,\n",
       " 39.39393939393939,\n",
       " 39.39393939393939,\n",
       " 39.39393939393939,\n",
       " 39.39393939393939,\n",
       " 39.39393939393939,\n",
       " 42.42424242424242,\n",
       " 42.42424242424242,\n",
       " 42.42424242424242,\n",
       " 42.42424242424242,\n",
       " 42.42424242424242,\n",
       " 42.42424242424242,\n",
       " 42.42424242424242,\n",
       " 42.42424242424242,\n",
       " 42.42424242424242,\n",
       " 42.42424242424242,\n",
       " 42.42424242424242,\n",
       " 42.42424242424242,\n",
       " 42.42424242424242,\n",
       " 42.42424242424242]"
      ]
     },
     "execution_count": 52,
     "metadata": {},
     "output_type": "execute_result"
    }
   ],
   "source": [
    "conversion_rates"
   ]
  },
  {
   "cell_type": "code",
   "execution_count": 57,
   "metadata": {
    "scrolled": true
   },
   "outputs": [
    {
     "name": "stdout",
     "output_type": "stream",
     "text": [
      "\n",
      "Adding document:\n",
      "{'_index': 'cr-test-index', '_type': '_doc', '_id': '0', '_version': 1, 'result': 'created', 'forced_refresh': True, '_shards': {'total': 2, 'successful': 1, 'failed': 0}, '_seq_no': 0, '_primary_term': 1}\n",
      "\n",
      "Adding document:\n",
      "{'_index': 'cr-test-index', '_type': '_doc', '_id': '1', '_version': 33, 'result': 'created', 'forced_refresh': True, '_shards': {'total': 2, 'successful': 1, 'failed': 0}, '_seq_no': 32, '_primary_term': 1}\n",
      "\n",
      "Adding document:\n",
      "{'_index': 'cr-test-index', '_type': '_doc', '_id': '2', '_version': 1, 'result': 'created', 'forced_refresh': True, '_shards': {'total': 2, 'successful': 1, 'failed': 0}, '_seq_no': 33, '_primary_term': 1}\n",
      "\n",
      "Adding document:\n",
      "{'_index': 'cr-test-index', '_type': '_doc', '_id': '3', '_version': 1, 'result': 'created', 'forced_refresh': True, '_shards': {'total': 2, 'successful': 1, 'failed': 0}, '_seq_no': 34, '_primary_term': 1}\n",
      "\n",
      "Adding document:\n",
      "{'_index': 'cr-test-index', '_type': '_doc', '_id': '4', '_version': 1, 'result': 'created', 'forced_refresh': True, '_shards': {'total': 2, 'successful': 1, 'failed': 0}, '_seq_no': 0, '_primary_term': 1}\n",
      "\n",
      "Adding document:\n",
      "{'_index': 'cr-test-index', '_type': '_doc', '_id': '5', '_version': 1, 'result': 'created', 'forced_refresh': True, '_shards': {'total': 2, 'successful': 1, 'failed': 0}, '_seq_no': 0, '_primary_term': 1}\n",
      "\n",
      "Adding document:\n",
      "{'_index': 'cr-test-index', '_type': '_doc', '_id': '6', '_version': 1, 'result': 'created', 'forced_refresh': True, '_shards': {'total': 2, 'successful': 1, 'failed': 0}, '_seq_no': 35, '_primary_term': 1}\n",
      "\n",
      "Adding document:\n",
      "{'_index': 'cr-test-index', '_type': '_doc', '_id': '7', '_version': 1, 'result': 'created', 'forced_refresh': True, '_shards': {'total': 2, 'successful': 1, 'failed': 0}, '_seq_no': 1, '_primary_term': 1}\n",
      "\n",
      "Adding document:\n",
      "{'_index': 'cr-test-index', '_type': '_doc', '_id': '8', '_version': 1, 'result': 'created', 'forced_refresh': True, '_shards': {'total': 2, 'successful': 1, 'failed': 0}, '_seq_no': 1, '_primary_term': 1}\n",
      "\n",
      "Adding document:\n",
      "{'_index': 'cr-test-index', '_type': '_doc', '_id': '9', '_version': 1, 'result': 'created', 'forced_refresh': True, '_shards': {'total': 2, 'successful': 1, 'failed': 0}, '_seq_no': 36, '_primary_term': 1}\n",
      "\n",
      "Adding document:\n",
      "{'_index': 'cr-test-index', '_type': '_doc', '_id': '10', '_version': 1, 'result': 'created', 'forced_refresh': True, '_shards': {'total': 2, 'successful': 1, 'failed': 0}, '_seq_no': 37, '_primary_term': 1}\n",
      "\n",
      "Adding document:\n",
      "{'_index': 'cr-test-index', '_type': '_doc', '_id': '11', '_version': 1, 'result': 'created', 'forced_refresh': True, '_shards': {'total': 2, 'successful': 1, 'failed': 0}, '_seq_no': 38, '_primary_term': 1}\n",
      "\n",
      "Adding document:\n",
      "{'_index': 'cr-test-index', '_type': '_doc', '_id': '12', '_version': 1, 'result': 'created', 'forced_refresh': True, '_shards': {'total': 2, 'successful': 1, 'failed': 0}, '_seq_no': 1, '_primary_term': 1}\n",
      "\n",
      "Adding document:\n",
      "{'_index': 'cr-test-index', '_type': '_doc', '_id': '13', '_version': 1, 'result': 'created', 'forced_refresh': True, '_shards': {'total': 2, 'successful': 1, 'failed': 0}, '_seq_no': 2, '_primary_term': 1}\n",
      "\n",
      "Adding document:\n",
      "{'_index': 'cr-test-index', '_type': '_doc', '_id': '14', '_version': 1, 'result': 'created', 'forced_refresh': True, '_shards': {'total': 2, 'successful': 1, 'failed': 0}, '_seq_no': 3, '_primary_term': 1}\n",
      "\n",
      "Adding document:\n",
      "{'_index': 'cr-test-index', '_type': '_doc', '_id': '15', '_version': 1, 'result': 'created', 'forced_refresh': True, '_shards': {'total': 2, 'successful': 1, 'failed': 0}, '_seq_no': 2, '_primary_term': 1}\n",
      "\n",
      "Adding document:\n",
      "{'_index': 'cr-test-index', '_type': '_doc', '_id': '16', '_version': 1, 'result': 'created', 'forced_refresh': True, '_shards': {'total': 2, 'successful': 1, 'failed': 0}, '_seq_no': 39, '_primary_term': 1}\n",
      "\n",
      "Adding document:\n",
      "{'_index': 'cr-test-index', '_type': '_doc', '_id': '17', '_version': 1, 'result': 'created', 'forced_refresh': True, '_shards': {'total': 2, 'successful': 1, 'failed': 0}, '_seq_no': 4, '_primary_term': 1}\n",
      "\n",
      "Adding document:\n",
      "{'_index': 'cr-test-index', '_type': '_doc', '_id': '18', '_version': 1, 'result': 'created', 'forced_refresh': True, '_shards': {'total': 2, 'successful': 1, 'failed': 0}, '_seq_no': 40, '_primary_term': 1}\n",
      "\n",
      "Adding document:\n",
      "{'_index': 'cr-test-index', '_type': '_doc', '_id': '19', '_version': 1, 'result': 'created', 'forced_refresh': True, '_shards': {'total': 2, 'successful': 1, 'failed': 0}, '_seq_no': 2, '_primary_term': 1}\n",
      "\n",
      "Adding document:\n",
      "{'_index': 'cr-test-index', '_type': '_doc', '_id': '20', '_version': 1, 'result': 'created', 'forced_refresh': True, '_shards': {'total': 2, 'successful': 1, 'failed': 0}, '_seq_no': 5, '_primary_term': 1}\n",
      "\n",
      "Adding document:\n",
      "{'_index': 'cr-test-index', '_type': '_doc', '_id': '21', '_version': 1, 'result': 'created', 'forced_refresh': True, '_shards': {'total': 2, 'successful': 1, 'failed': 0}, '_seq_no': 3, '_primary_term': 1}\n",
      "\n",
      "Adding document:\n",
      "{'_index': 'cr-test-index', '_type': '_doc', '_id': '22', '_version': 1, 'result': 'created', 'forced_refresh': True, '_shards': {'total': 2, 'successful': 1, 'failed': 0}, '_seq_no': 41, '_primary_term': 1}\n",
      "\n",
      "Adding document:\n",
      "{'_index': 'cr-test-index', '_type': '_doc', '_id': '23', '_version': 1, 'result': 'created', 'forced_refresh': True, '_shards': {'total': 2, 'successful': 1, 'failed': 0}, '_seq_no': 42, '_primary_term': 1}\n",
      "\n",
      "Adding document:\n",
      "{'_index': 'cr-test-index', '_type': '_doc', '_id': '24', '_version': 1, 'result': 'created', 'forced_refresh': True, '_shards': {'total': 2, 'successful': 1, 'failed': 0}, '_seq_no': 6, '_primary_term': 1}\n",
      "\n",
      "Adding document:\n",
      "{'_index': 'cr-test-index', '_type': '_doc', '_id': '25', '_version': 1, 'result': 'created', 'forced_refresh': True, '_shards': {'total': 2, 'successful': 1, 'failed': 0}, '_seq_no': 3, '_primary_term': 1}\n",
      "\n",
      "Adding document:\n",
      "{'_index': 'cr-test-index', '_type': '_doc', '_id': '26', '_version': 1, 'result': 'created', 'forced_refresh': True, '_shards': {'total': 2, 'successful': 1, 'failed': 0}, '_seq_no': 43, '_primary_term': 1}\n",
      "\n",
      "Adding document:\n",
      "{'_index': 'cr-test-index', '_type': '_doc', '_id': '27', '_version': 1, 'result': 'created', 'forced_refresh': True, '_shards': {'total': 2, 'successful': 1, 'failed': 0}, '_seq_no': 4, '_primary_term': 1}\n",
      "\n",
      "Adding document:\n",
      "{'_index': 'cr-test-index', '_type': '_doc', '_id': '28', '_version': 1, 'result': 'created', 'forced_refresh': True, '_shards': {'total': 2, 'successful': 1, 'failed': 0}, '_seq_no': 5, '_primary_term': 1}\n",
      "\n",
      "Adding document:\n",
      "{'_index': 'cr-test-index', '_type': '_doc', '_id': '29', '_version': 1, 'result': 'created', 'forced_refresh': True, '_shards': {'total': 2, 'successful': 1, 'failed': 0}, '_seq_no': 6, '_primary_term': 1}\n",
      "\n",
      "Adding document:\n",
      "{'_index': 'cr-test-index', '_type': '_doc', '_id': '30', '_version': 1, 'result': 'created', 'forced_refresh': True, '_shards': {'total': 2, 'successful': 1, 'failed': 0}, '_seq_no': 44, '_primary_term': 1}\n"
     ]
    }
   ],
   "source": [
    "for i in range(len(conversion_rates)):\n",
    "    # Add a document to the index.\n",
    "    document = {\n",
    "      'date': datapoint_dates[i],\n",
    "      'rate': conversion_rates[i],\n",
    "    }\n",
    "    id = i\n",
    "\n",
    "    response = client.index(\n",
    "        index = index_name,\n",
    "        body = document,\n",
    "        id = i,\n",
    "        refresh = True\n",
    "    )\n",
    "\n",
    "    print('\\nAdding document:')\n",
    "    print(response)"
   ]
  },
  {
   "cell_type": "code",
   "execution_count": 58,
   "metadata": {
    "scrolled": true
   },
   "outputs": [
    {
     "data": {
      "text/plain": [
       "{'took': 27,\n",
       " 'timed_out': False,\n",
       " '_shards': {'total': 4, 'successful': 4, 'skipped': 0, 'failed': 0},\n",
       " 'hits': {'total': {'value': 31, 'relation': 'eq'},\n",
       "  'max_score': 1.0,\n",
       "  'hits': [{'_index': 'cr-test-index',\n",
       "    '_type': '_doc',\n",
       "    '_id': '1',\n",
       "    '_score': 1.0,\n",
       "    '_source': {'date': 1572542946, 'rate': 33.33333333333333}},\n",
       "   {'_index': 'cr-test-index',\n",
       "    '_type': '_doc',\n",
       "    '_id': '3',\n",
       "    '_score': 1.0,\n",
       "    '_source': {'date': 1577802438, 'rate': 33.33333333333333}},\n",
       "   {'_index': 'cr-test-index',\n",
       "    '_type': '_doc',\n",
       "    '_id': '6',\n",
       "    '_score': 1.0,\n",
       "    '_source': {'date': 1585691676, 'rate': 36.36363636363637}},\n",
       "   {'_index': 'cr-test-index',\n",
       "    '_type': '_doc',\n",
       "    '_id': '9',\n",
       "    '_score': 1.0,\n",
       "    '_source': {'date': 1593580914, 'rate': 36.36363636363637}},\n",
       "   {'_index': 'cr-test-index',\n",
       "    '_type': '_doc',\n",
       "    '_id': '10',\n",
       "    '_score': 1.0,\n",
       "    '_source': {'date': 1596210660, 'rate': 36.36363636363637}},\n",
       "   {'_index': 'cr-test-index',\n",
       "    '_type': '_doc',\n",
       "    '_id': '11',\n",
       "    '_score': 1.0,\n",
       "    '_source': {'date': 1598840406, 'rate': 39.39393939393939}},\n",
       "   {'_index': 'cr-test-index',\n",
       "    '_type': '_doc',\n",
       "    '_id': '2',\n",
       "    '_score': 1.0,\n",
       "    '_source': {'date': 1575172692, 'rate': 33.33333333333333}},\n",
       "   {'_index': 'cr-test-index',\n",
       "    '_type': '_doc',\n",
       "    '_id': '16',\n",
       "    '_score': 1.0,\n",
       "    '_source': {'date': 1611989136, 'rate': 39.39393939393939}},\n",
       "   {'_index': 'cr-test-index',\n",
       "    '_type': '_doc',\n",
       "    '_id': '18',\n",
       "    '_score': 1.0,\n",
       "    '_source': {'date': 1617248628, 'rate': 42.42424242424242}},\n",
       "   {'_index': 'cr-test-index',\n",
       "    '_type': '_doc',\n",
       "    '_id': '22',\n",
       "    '_score': 1.0,\n",
       "    '_source': {'date': 1627767612, 'rate': 42.42424242424242}},\n",
       "   {'_index': 'cr-test-index',\n",
       "    '_type': '_doc',\n",
       "    '_id': '23',\n",
       "    '_score': 1.0,\n",
       "    '_source': {'date': 1630397358, 'rate': 42.42424242424242}},\n",
       "   {'_index': 'cr-test-index',\n",
       "    '_type': '_doc',\n",
       "    '_id': '26',\n",
       "    '_score': 1.0,\n",
       "    '_source': {'date': 1638286596, 'rate': 42.42424242424242}},\n",
       "   {'_index': 'cr-test-index',\n",
       "    '_type': '_doc',\n",
       "    '_id': '30',\n",
       "    '_score': 1.0,\n",
       "    '_source': {'date': 1648805580, 'rate': 42.42424242424242}},\n",
       "   {'_index': 'cr-test-index',\n",
       "    '_type': '_doc',\n",
       "    '_id': '5',\n",
       "    '_score': 1.0,\n",
       "    '_source': {'date': 1583061930, 'rate': 33.33333333333333}},\n",
       "   {'_index': 'cr-test-index',\n",
       "    '_type': '_doc',\n",
       "    '_id': '7',\n",
       "    '_score': 1.0,\n",
       "    '_source': {'date': 1588321422, 'rate': 36.36363636363637}},\n",
       "   {'_index': 'cr-test-index',\n",
       "    '_type': '_doc',\n",
       "    '_id': '19',\n",
       "    '_score': 1.0,\n",
       "    '_source': {'date': 1619878374, 'rate': 42.42424242424242}},\n",
       "   {'_index': 'cr-test-index',\n",
       "    '_type': '_doc',\n",
       "    '_id': '21',\n",
       "    '_score': 1.0,\n",
       "    '_source': {'date': 1625137866, 'rate': 42.42424242424242}},\n",
       "   {'_index': 'cr-test-index',\n",
       "    '_type': '_doc',\n",
       "    '_id': '0',\n",
       "    '_score': 1.0,\n",
       "    '_source': {'date': 1569913200, 'rate': 33.33333333333333}},\n",
       "   {'_index': 'cr-test-index',\n",
       "    '_type': '_doc',\n",
       "    '_id': '8',\n",
       "    '_score': 1.0,\n",
       "    '_source': {'date': 1590951168, 'rate': 36.36363636363637}},\n",
       "   {'_index': 'cr-test-index',\n",
       "    '_type': '_doc',\n",
       "    '_id': '15',\n",
       "    '_score': 1.0,\n",
       "    '_source': {'date': 1609359390, 'rate': 39.39393939393939}},\n",
       "   {'_index': 'cr-test-index',\n",
       "    '_type': '_doc',\n",
       "    '_id': '25',\n",
       "    '_score': 1.0,\n",
       "    '_source': {'date': 1635656850, 'rate': 42.42424242424242}},\n",
       "   {'_index': 'cr-test-index',\n",
       "    '_type': '_doc',\n",
       "    '_id': '27',\n",
       "    '_score': 1.0,\n",
       "    '_source': {'date': 1640916342, 'rate': 42.42424242424242}},\n",
       "   {'_index': 'cr-test-index',\n",
       "    '_type': '_doc',\n",
       "    '_id': '28',\n",
       "    '_score': 1.0,\n",
       "    '_source': {'date': 1643546088, 'rate': 42.42424242424242}},\n",
       "   {'_index': 'cr-test-index',\n",
       "    '_type': '_doc',\n",
       "    '_id': '29',\n",
       "    '_score': 1.0,\n",
       "    '_source': {'date': 1646175834, 'rate': 42.42424242424242}},\n",
       "   {'_index': 'cr-test-index',\n",
       "    '_type': '_doc',\n",
       "    '_id': '4',\n",
       "    '_score': 1.0,\n",
       "    '_source': {'date': 1580432184, 'rate': 33.33333333333333}},\n",
       "   {'_index': 'cr-test-index',\n",
       "    '_type': '_doc',\n",
       "    '_id': '12',\n",
       "    '_score': 1.0,\n",
       "    '_source': {'date': 1601470152, 'rate': 39.39393939393939}},\n",
       "   {'_index': 'cr-test-index',\n",
       "    '_type': '_doc',\n",
       "    '_id': '13',\n",
       "    '_score': 1.0,\n",
       "    '_source': {'date': 1604099898, 'rate': 39.39393939393939}},\n",
       "   {'_index': 'cr-test-index',\n",
       "    '_type': '_doc',\n",
       "    '_id': '14',\n",
       "    '_score': 1.0,\n",
       "    '_source': {'date': 1606729644, 'rate': 39.39393939393939}},\n",
       "   {'_index': 'cr-test-index',\n",
       "    '_type': '_doc',\n",
       "    '_id': '17',\n",
       "    '_score': 1.0,\n",
       "    '_source': {'date': 1614618882, 'rate': 42.42424242424242}},\n",
       "   {'_index': 'cr-test-index',\n",
       "    '_type': '_doc',\n",
       "    '_id': '20',\n",
       "    '_score': 1.0,\n",
       "    '_source': {'date': 1622508120, 'rate': 42.42424242424242}},\n",
       "   {'_index': 'cr-test-index',\n",
       "    '_type': '_doc',\n",
       "    '_id': '24',\n",
       "    '_score': 1.0,\n",
       "    '_source': {'date': 1633027104, 'rate': 42.42424242424242}}]}}"
      ]
     },
     "execution_count": 58,
     "metadata": {},
     "output_type": "execute_result"
    }
   ],
   "source": [
    "client.search(index=\"cr-test-index\", doc_type=\"_doc\", body = {\n",
    "'size' : 100,\n",
    "'query': {\n",
    "    'match_all' : {}\n",
    "}\n",
    "})"
   ]
  },
  {
   "cell_type": "code",
   "execution_count": null,
   "metadata": {},
   "outputs": [],
   "source": [
    "# Search for the document.\n",
    "q = 'query_here'\n",
    "query = {\n",
    "  'size': 5,\n",
    "  'query': {\n",
    "    'multi_match': {\n",
    "      'query': q,\n",
    "      'fields': ['title^2', 'director']\n",
    "    }\n",
    "  }\n",
    "}\n",
    "\n",
    "response = client.search(\n",
    "    body = query,\n",
    "    index = index_name\n",
    ")\n",
    "print('\\nSearch results:')\n",
    "print(response)"
   ]
  },
  {
   "cell_type": "code",
   "execution_count": 56,
   "metadata": {},
   "outputs": [
    {
     "name": "stdout",
     "output_type": "stream",
     "text": [
      "\n",
      "Deleting document:\n",
      "{'_index': 'cr-test-index', '_type': '_doc', '_id': '1', '_version': 32, 'result': 'deleted', '_shards': {'total': 2, 'successful': 1, 'failed': 0}, '_seq_no': 31, '_primary_term': 1}\n"
     ]
    }
   ],
   "source": [
    "# Delete the document.\n",
    "response = client.delete(\n",
    "    index = index_name,\n",
    "    id = '1'\n",
    ")\n",
    "\n",
    "print('\\nDeleting document:')\n",
    "print(response)"
   ]
  },
  {
   "cell_type": "code",
   "execution_count": null,
   "metadata": {},
   "outputs": [],
   "source": [
    "# Delete the index.\n",
    "response = client.indices.delete(\n",
    "    index = index_name\n",
    ")\n",
    "\n",
    "print('\\nDeleting index:')\n",
    "print(response)"
   ]
  },
  {
   "cell_type": "code",
   "execution_count": null,
   "metadata": {},
   "outputs": [],
   "source": []
  }
 ],
 "metadata": {
  "kernelspec": {
   "display_name": "Python 3",
   "language": "python",
   "name": "python3"
  },
  "language_info": {
   "codemirror_mode": {
    "name": "ipython",
    "version": 3
   },
   "file_extension": ".py",
   "mimetype": "text/x-python",
   "name": "python",
   "nbconvert_exporter": "python",
   "pygments_lexer": "ipython3",
   "version": "3.8.2"
  }
 },
 "nbformat": 4,
 "nbformat_minor": 4
}
